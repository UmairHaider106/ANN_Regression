{
 "cells": [
  {
   "cell_type": "code",
   "execution_count": 9,
   "metadata": {},
   "outputs": [],
   "source": [
    "import pandas as pd\n",
    "from sklearn.model_selection import train_test_split\n",
    "from sklearn.preprocessing import OneHotEncoder, StandardScaler,LabelEncoder\n",
    "import pickle"
   ]
  },
  {
   "cell_type": "code",
   "execution_count": null,
   "metadata": {},
   "outputs": [],
   "source": []
  },
  {
   "cell_type": "code",
   "execution_count": null,
   "metadata": {},
   "outputs": [],
   "source": []
  },
  {
   "cell_type": "code",
   "execution_count": null,
   "metadata": {},
   "outputs": [],
   "source": []
  },
  {
   "cell_type": "code",
   "execution_count": 10,
   "metadata": {},
   "outputs": [],
   "source": [
    "df=pd.read_csv(\"Churn_Modelling.csv\")"
   ]
  },
  {
   "cell_type": "code",
   "execution_count": 11,
   "metadata": {},
   "outputs": [
    {
     "data": {
      "text/html": [
       "<div>\n",
       "<style scoped>\n",
       "    .dataframe tbody tr th:only-of-type {\n",
       "        vertical-align: middle;\n",
       "    }\n",
       "\n",
       "    .dataframe tbody tr th {\n",
       "        vertical-align: top;\n",
       "    }\n",
       "\n",
       "    .dataframe thead th {\n",
       "        text-align: right;\n",
       "    }\n",
       "</style>\n",
       "<table border=\"1\" class=\"dataframe\">\n",
       "  <thead>\n",
       "    <tr style=\"text-align: right;\">\n",
       "      <th></th>\n",
       "      <th>RowNumber</th>\n",
       "      <th>CustomerId</th>\n",
       "      <th>Surname</th>\n",
       "      <th>CreditScore</th>\n",
       "      <th>Geography</th>\n",
       "      <th>Gender</th>\n",
       "      <th>Age</th>\n",
       "      <th>Tenure</th>\n",
       "      <th>Balance</th>\n",
       "      <th>NumOfProducts</th>\n",
       "      <th>HasCrCard</th>\n",
       "      <th>IsActiveMember</th>\n",
       "      <th>EstimatedSalary</th>\n",
       "      <th>Exited</th>\n",
       "    </tr>\n",
       "  </thead>\n",
       "  <tbody>\n",
       "    <tr>\n",
       "      <th>0</th>\n",
       "      <td>1</td>\n",
       "      <td>15634602</td>\n",
       "      <td>Hargrave</td>\n",
       "      <td>619</td>\n",
       "      <td>France</td>\n",
       "      <td>Female</td>\n",
       "      <td>42</td>\n",
       "      <td>2</td>\n",
       "      <td>0.00</td>\n",
       "      <td>1</td>\n",
       "      <td>1</td>\n",
       "      <td>1</td>\n",
       "      <td>101348.88</td>\n",
       "      <td>1</td>\n",
       "    </tr>\n",
       "    <tr>\n",
       "      <th>1</th>\n",
       "      <td>2</td>\n",
       "      <td>15647311</td>\n",
       "      <td>Hill</td>\n",
       "      <td>608</td>\n",
       "      <td>Spain</td>\n",
       "      <td>Female</td>\n",
       "      <td>41</td>\n",
       "      <td>1</td>\n",
       "      <td>83807.86</td>\n",
       "      <td>1</td>\n",
       "      <td>0</td>\n",
       "      <td>1</td>\n",
       "      <td>112542.58</td>\n",
       "      <td>0</td>\n",
       "    </tr>\n",
       "    <tr>\n",
       "      <th>2</th>\n",
       "      <td>3</td>\n",
       "      <td>15619304</td>\n",
       "      <td>Onio</td>\n",
       "      <td>502</td>\n",
       "      <td>France</td>\n",
       "      <td>Female</td>\n",
       "      <td>42</td>\n",
       "      <td>8</td>\n",
       "      <td>159660.80</td>\n",
       "      <td>3</td>\n",
       "      <td>1</td>\n",
       "      <td>0</td>\n",
       "      <td>113931.57</td>\n",
       "      <td>1</td>\n",
       "    </tr>\n",
       "    <tr>\n",
       "      <th>3</th>\n",
       "      <td>4</td>\n",
       "      <td>15701354</td>\n",
       "      <td>Boni</td>\n",
       "      <td>699</td>\n",
       "      <td>France</td>\n",
       "      <td>Female</td>\n",
       "      <td>39</td>\n",
       "      <td>1</td>\n",
       "      <td>0.00</td>\n",
       "      <td>2</td>\n",
       "      <td>0</td>\n",
       "      <td>0</td>\n",
       "      <td>93826.63</td>\n",
       "      <td>0</td>\n",
       "    </tr>\n",
       "    <tr>\n",
       "      <th>4</th>\n",
       "      <td>5</td>\n",
       "      <td>15737888</td>\n",
       "      <td>Mitchell</td>\n",
       "      <td>850</td>\n",
       "      <td>Spain</td>\n",
       "      <td>Female</td>\n",
       "      <td>43</td>\n",
       "      <td>2</td>\n",
       "      <td>125510.82</td>\n",
       "      <td>1</td>\n",
       "      <td>1</td>\n",
       "      <td>1</td>\n",
       "      <td>79084.10</td>\n",
       "      <td>0</td>\n",
       "    </tr>\n",
       "    <tr>\n",
       "      <th>...</th>\n",
       "      <td>...</td>\n",
       "      <td>...</td>\n",
       "      <td>...</td>\n",
       "      <td>...</td>\n",
       "      <td>...</td>\n",
       "      <td>...</td>\n",
       "      <td>...</td>\n",
       "      <td>...</td>\n",
       "      <td>...</td>\n",
       "      <td>...</td>\n",
       "      <td>...</td>\n",
       "      <td>...</td>\n",
       "      <td>...</td>\n",
       "      <td>...</td>\n",
       "    </tr>\n",
       "    <tr>\n",
       "      <th>9995</th>\n",
       "      <td>9996</td>\n",
       "      <td>15606229</td>\n",
       "      <td>Obijiaku</td>\n",
       "      <td>771</td>\n",
       "      <td>France</td>\n",
       "      <td>Male</td>\n",
       "      <td>39</td>\n",
       "      <td>5</td>\n",
       "      <td>0.00</td>\n",
       "      <td>2</td>\n",
       "      <td>1</td>\n",
       "      <td>0</td>\n",
       "      <td>96270.64</td>\n",
       "      <td>0</td>\n",
       "    </tr>\n",
       "    <tr>\n",
       "      <th>9996</th>\n",
       "      <td>9997</td>\n",
       "      <td>15569892</td>\n",
       "      <td>Johnstone</td>\n",
       "      <td>516</td>\n",
       "      <td>France</td>\n",
       "      <td>Male</td>\n",
       "      <td>35</td>\n",
       "      <td>10</td>\n",
       "      <td>57369.61</td>\n",
       "      <td>1</td>\n",
       "      <td>1</td>\n",
       "      <td>1</td>\n",
       "      <td>101699.77</td>\n",
       "      <td>0</td>\n",
       "    </tr>\n",
       "    <tr>\n",
       "      <th>9997</th>\n",
       "      <td>9998</td>\n",
       "      <td>15584532</td>\n",
       "      <td>Liu</td>\n",
       "      <td>709</td>\n",
       "      <td>France</td>\n",
       "      <td>Female</td>\n",
       "      <td>36</td>\n",
       "      <td>7</td>\n",
       "      <td>0.00</td>\n",
       "      <td>1</td>\n",
       "      <td>0</td>\n",
       "      <td>1</td>\n",
       "      <td>42085.58</td>\n",
       "      <td>1</td>\n",
       "    </tr>\n",
       "    <tr>\n",
       "      <th>9998</th>\n",
       "      <td>9999</td>\n",
       "      <td>15682355</td>\n",
       "      <td>Sabbatini</td>\n",
       "      <td>772</td>\n",
       "      <td>Germany</td>\n",
       "      <td>Male</td>\n",
       "      <td>42</td>\n",
       "      <td>3</td>\n",
       "      <td>75075.31</td>\n",
       "      <td>2</td>\n",
       "      <td>1</td>\n",
       "      <td>0</td>\n",
       "      <td>92888.52</td>\n",
       "      <td>1</td>\n",
       "    </tr>\n",
       "    <tr>\n",
       "      <th>9999</th>\n",
       "      <td>10000</td>\n",
       "      <td>15628319</td>\n",
       "      <td>Walker</td>\n",
       "      <td>792</td>\n",
       "      <td>France</td>\n",
       "      <td>Female</td>\n",
       "      <td>28</td>\n",
       "      <td>4</td>\n",
       "      <td>130142.79</td>\n",
       "      <td>1</td>\n",
       "      <td>1</td>\n",
       "      <td>0</td>\n",
       "      <td>38190.78</td>\n",
       "      <td>0</td>\n",
       "    </tr>\n",
       "  </tbody>\n",
       "</table>\n",
       "<p>10000 rows × 14 columns</p>\n",
       "</div>"
      ],
      "text/plain": [
       "      RowNumber  CustomerId    Surname  ...  IsActiveMember EstimatedSalary Exited\n",
       "0             1    15634602   Hargrave  ...               1       101348.88      1\n",
       "1             2    15647311       Hill  ...               1       112542.58      0\n",
       "2             3    15619304       Onio  ...               0       113931.57      1\n",
       "3             4    15701354       Boni  ...               0        93826.63      0\n",
       "4             5    15737888   Mitchell  ...               1        79084.10      0\n",
       "...         ...         ...        ...  ...             ...             ...    ...\n",
       "9995       9996    15606229   Obijiaku  ...               0        96270.64      0\n",
       "9996       9997    15569892  Johnstone  ...               1       101699.77      0\n",
       "9997       9998    15584532        Liu  ...               1        42085.58      1\n",
       "9998       9999    15682355  Sabbatini  ...               0        92888.52      1\n",
       "9999      10000    15628319     Walker  ...               0        38190.78      0\n",
       "\n",
       "[10000 rows x 14 columns]"
      ]
     },
     "execution_count": 11,
     "metadata": {},
     "output_type": "execute_result"
    }
   ],
   "source": [
    "df"
   ]
  },
  {
   "cell_type": "code",
   "execution_count": 12,
   "metadata": {},
   "outputs": [],
   "source": [
    "df=df.drop([\"RowNumber\",\"CustomerId\",\"Surname\"], axis=1)"
   ]
  },
  {
   "cell_type": "code",
   "execution_count": 13,
   "metadata": {},
   "outputs": [],
   "source": [
    "LB=LabelEncoder()"
   ]
  },
  {
   "cell_type": "code",
   "execution_count": 14,
   "metadata": {},
   "outputs": [],
   "source": [
    "df[\"Gender\"]=LB.fit_transform(df[\"Gender\"])"
   ]
  },
  {
   "cell_type": "code",
   "execution_count": 15,
   "metadata": {},
   "outputs": [
    {
     "data": {
      "text/html": [
       "<div>\n",
       "<style scoped>\n",
       "    .dataframe tbody tr th:only-of-type {\n",
       "        vertical-align: middle;\n",
       "    }\n",
       "\n",
       "    .dataframe tbody tr th {\n",
       "        vertical-align: top;\n",
       "    }\n",
       "\n",
       "    .dataframe thead th {\n",
       "        text-align: right;\n",
       "    }\n",
       "</style>\n",
       "<table border=\"1\" class=\"dataframe\">\n",
       "  <thead>\n",
       "    <tr style=\"text-align: right;\">\n",
       "      <th></th>\n",
       "      <th>CreditScore</th>\n",
       "      <th>Geography</th>\n",
       "      <th>Gender</th>\n",
       "      <th>Age</th>\n",
       "      <th>Tenure</th>\n",
       "      <th>Balance</th>\n",
       "      <th>NumOfProducts</th>\n",
       "      <th>HasCrCard</th>\n",
       "      <th>IsActiveMember</th>\n",
       "      <th>EstimatedSalary</th>\n",
       "      <th>Exited</th>\n",
       "    </tr>\n",
       "  </thead>\n",
       "  <tbody>\n",
       "    <tr>\n",
       "      <th>0</th>\n",
       "      <td>619</td>\n",
       "      <td>France</td>\n",
       "      <td>0</td>\n",
       "      <td>42</td>\n",
       "      <td>2</td>\n",
       "      <td>0.00</td>\n",
       "      <td>1</td>\n",
       "      <td>1</td>\n",
       "      <td>1</td>\n",
       "      <td>101348.88</td>\n",
       "      <td>1</td>\n",
       "    </tr>\n",
       "    <tr>\n",
       "      <th>1</th>\n",
       "      <td>608</td>\n",
       "      <td>Spain</td>\n",
       "      <td>0</td>\n",
       "      <td>41</td>\n",
       "      <td>1</td>\n",
       "      <td>83807.86</td>\n",
       "      <td>1</td>\n",
       "      <td>0</td>\n",
       "      <td>1</td>\n",
       "      <td>112542.58</td>\n",
       "      <td>0</td>\n",
       "    </tr>\n",
       "  </tbody>\n",
       "</table>\n",
       "</div>"
      ],
      "text/plain": [
       "   CreditScore Geography  Gender  ...  IsActiveMember  EstimatedSalary  Exited\n",
       "0          619    France       0  ...               1        101348.88       1\n",
       "1          608     Spain       0  ...               1        112542.58       0\n",
       "\n",
       "[2 rows x 11 columns]"
      ]
     },
     "execution_count": 15,
     "metadata": {},
     "output_type": "execute_result"
    }
   ],
   "source": [
    "df.head(2)"
   ]
  },
  {
   "cell_type": "markdown",
   "metadata": {},
   "source": []
  },
  {
   "cell_type": "code",
   "execution_count": 16,
   "metadata": {},
   "outputs": [
    {
     "data": {
      "text/plain": [
       "array([0, 1])"
      ]
     },
     "execution_count": 16,
     "metadata": {},
     "output_type": "execute_result"
    }
   ],
   "source": [
    "df[\"Gender\"].unique()"
   ]
  },
  {
   "cell_type": "code",
   "execution_count": 17,
   "metadata": {},
   "outputs": [
    {
     "data": {
      "text/plain": [
       "Gender\n",
       "1    5457\n",
       "0    4543\n",
       "Name: count, dtype: int64"
      ]
     },
     "execution_count": 17,
     "metadata": {},
     "output_type": "execute_result"
    }
   ],
   "source": [
    "df[\"Gender\"].value_counts()"
   ]
  },
  {
   "cell_type": "code",
   "execution_count": 22,
   "metadata": {},
   "outputs": [],
   "source": [
    "one_hot=OneHotEncoder(sparse_output=False)"
   ]
  },
  {
   "cell_type": "code",
   "execution_count": 23,
   "metadata": {},
   "outputs": [],
   "source": [
    "geo_encoder=one_hot.fit_transform(df[[\"Geography\"]])"
   ]
  },
  {
   "cell_type": "code",
   "execution_count": 24,
   "metadata": {},
   "outputs": [
    {
     "data": {
      "text/plain": [
       "array([[1., 0., 0.],\n",
       "       [0., 0., 1.],\n",
       "       [1., 0., 0.],\n",
       "       ...,\n",
       "       [1., 0., 0.],\n",
       "       [0., 1., 0.],\n",
       "       [1., 0., 0.]])"
      ]
     },
     "execution_count": 24,
     "metadata": {},
     "output_type": "execute_result"
    }
   ],
   "source": [
    "geo_encoder"
   ]
  },
  {
   "cell_type": "code",
   "execution_count": 25,
   "metadata": {},
   "outputs": [
    {
     "data": {
      "text/plain": [
       "array(['Geography_France', 'Geography_Germany', 'Geography_Spain'],\n",
       "      dtype=object)"
      ]
     },
     "execution_count": 25,
     "metadata": {},
     "output_type": "execute_result"
    }
   ],
   "source": [
    "one_hot.get_feature_names_out()"
   ]
  },
  {
   "cell_type": "code",
   "execution_count": 26,
   "metadata": {},
   "outputs": [],
   "source": [
    "df2=pd.DataFrame(geo_encoder, columns=one_hot.get_feature_names_out())"
   ]
  },
  {
   "cell_type": "code",
   "execution_count": 27,
   "metadata": {},
   "outputs": [
    {
     "data": {
      "text/html": [
       "<div>\n",
       "<style scoped>\n",
       "    .dataframe tbody tr th:only-of-type {\n",
       "        vertical-align: middle;\n",
       "    }\n",
       "\n",
       "    .dataframe tbody tr th {\n",
       "        vertical-align: top;\n",
       "    }\n",
       "\n",
       "    .dataframe thead th {\n",
       "        text-align: right;\n",
       "    }\n",
       "</style>\n",
       "<table border=\"1\" class=\"dataframe\">\n",
       "  <thead>\n",
       "    <tr style=\"text-align: right;\">\n",
       "      <th></th>\n",
       "      <th>Geography_France</th>\n",
       "      <th>Geography_Germany</th>\n",
       "      <th>Geography_Spain</th>\n",
       "    </tr>\n",
       "  </thead>\n",
       "  <tbody>\n",
       "    <tr>\n",
       "      <th>0</th>\n",
       "      <td>1.0</td>\n",
       "      <td>0.0</td>\n",
       "      <td>0.0</td>\n",
       "    </tr>\n",
       "    <tr>\n",
       "      <th>1</th>\n",
       "      <td>0.0</td>\n",
       "      <td>0.0</td>\n",
       "      <td>1.0</td>\n",
       "    </tr>\n",
       "    <tr>\n",
       "      <th>2</th>\n",
       "      <td>1.0</td>\n",
       "      <td>0.0</td>\n",
       "      <td>0.0</td>\n",
       "    </tr>\n",
       "    <tr>\n",
       "      <th>3</th>\n",
       "      <td>1.0</td>\n",
       "      <td>0.0</td>\n",
       "      <td>0.0</td>\n",
       "    </tr>\n",
       "    <tr>\n",
       "      <th>4</th>\n",
       "      <td>0.0</td>\n",
       "      <td>0.0</td>\n",
       "      <td>1.0</td>\n",
       "    </tr>\n",
       "    <tr>\n",
       "      <th>...</th>\n",
       "      <td>...</td>\n",
       "      <td>...</td>\n",
       "      <td>...</td>\n",
       "    </tr>\n",
       "    <tr>\n",
       "      <th>9995</th>\n",
       "      <td>1.0</td>\n",
       "      <td>0.0</td>\n",
       "      <td>0.0</td>\n",
       "    </tr>\n",
       "    <tr>\n",
       "      <th>9996</th>\n",
       "      <td>1.0</td>\n",
       "      <td>0.0</td>\n",
       "      <td>0.0</td>\n",
       "    </tr>\n",
       "    <tr>\n",
       "      <th>9997</th>\n",
       "      <td>1.0</td>\n",
       "      <td>0.0</td>\n",
       "      <td>0.0</td>\n",
       "    </tr>\n",
       "    <tr>\n",
       "      <th>9998</th>\n",
       "      <td>0.0</td>\n",
       "      <td>1.0</td>\n",
       "      <td>0.0</td>\n",
       "    </tr>\n",
       "    <tr>\n",
       "      <th>9999</th>\n",
       "      <td>1.0</td>\n",
       "      <td>0.0</td>\n",
       "      <td>0.0</td>\n",
       "    </tr>\n",
       "  </tbody>\n",
       "</table>\n",
       "<p>10000 rows × 3 columns</p>\n",
       "</div>"
      ],
      "text/plain": [
       "      Geography_France  Geography_Germany  Geography_Spain\n",
       "0                  1.0                0.0              0.0\n",
       "1                  0.0                0.0              1.0\n",
       "2                  1.0                0.0              0.0\n",
       "3                  1.0                0.0              0.0\n",
       "4                  0.0                0.0              1.0\n",
       "...                ...                ...              ...\n",
       "9995               1.0                0.0              0.0\n",
       "9996               1.0                0.0              0.0\n",
       "9997               1.0                0.0              0.0\n",
       "9998               0.0                1.0              0.0\n",
       "9999               1.0                0.0              0.0\n",
       "\n",
       "[10000 rows x 3 columns]"
      ]
     },
     "execution_count": 27,
     "metadata": {},
     "output_type": "execute_result"
    }
   ],
   "source": [
    "df2"
   ]
  },
  {
   "cell_type": "code",
   "execution_count": 28,
   "metadata": {},
   "outputs": [],
   "source": [
    "df_final=pd.concat([df,df2],axis=1)"
   ]
  },
  {
   "cell_type": "code",
   "execution_count": 36,
   "metadata": {},
   "outputs": [],
   "source": [
    "df_final=df_final.drop(\"Geography\",axis=1)"
   ]
  },
  {
   "cell_type": "code",
   "execution_count": 37,
   "metadata": {},
   "outputs": [
    {
     "data": {
      "text/html": [
       "<div>\n",
       "<style scoped>\n",
       "    .dataframe tbody tr th:only-of-type {\n",
       "        vertical-align: middle;\n",
       "    }\n",
       "\n",
       "    .dataframe tbody tr th {\n",
       "        vertical-align: top;\n",
       "    }\n",
       "\n",
       "    .dataframe thead th {\n",
       "        text-align: right;\n",
       "    }\n",
       "</style>\n",
       "<table border=\"1\" class=\"dataframe\">\n",
       "  <thead>\n",
       "    <tr style=\"text-align: right;\">\n",
       "      <th></th>\n",
       "      <th>CreditScore</th>\n",
       "      <th>Gender</th>\n",
       "      <th>Age</th>\n",
       "      <th>Tenure</th>\n",
       "      <th>Balance</th>\n",
       "      <th>NumOfProducts</th>\n",
       "      <th>HasCrCard</th>\n",
       "      <th>IsActiveMember</th>\n",
       "      <th>EstimatedSalary</th>\n",
       "      <th>Exited</th>\n",
       "      <th>Geography_France</th>\n",
       "      <th>Geography_Germany</th>\n",
       "      <th>Geography_Spain</th>\n",
       "    </tr>\n",
       "  </thead>\n",
       "  <tbody>\n",
       "    <tr>\n",
       "      <th>0</th>\n",
       "      <td>619</td>\n",
       "      <td>0</td>\n",
       "      <td>42</td>\n",
       "      <td>2</td>\n",
       "      <td>0.00</td>\n",
       "      <td>1</td>\n",
       "      <td>1</td>\n",
       "      <td>1</td>\n",
       "      <td>101348.88</td>\n",
       "      <td>1</td>\n",
       "      <td>1.0</td>\n",
       "      <td>0.0</td>\n",
       "      <td>0.0</td>\n",
       "    </tr>\n",
       "    <tr>\n",
       "      <th>1</th>\n",
       "      <td>608</td>\n",
       "      <td>0</td>\n",
       "      <td>41</td>\n",
       "      <td>1</td>\n",
       "      <td>83807.86</td>\n",
       "      <td>1</td>\n",
       "      <td>0</td>\n",
       "      <td>1</td>\n",
       "      <td>112542.58</td>\n",
       "      <td>0</td>\n",
       "      <td>0.0</td>\n",
       "      <td>0.0</td>\n",
       "      <td>1.0</td>\n",
       "    </tr>\n",
       "    <tr>\n",
       "      <th>2</th>\n",
       "      <td>502</td>\n",
       "      <td>0</td>\n",
       "      <td>42</td>\n",
       "      <td>8</td>\n",
       "      <td>159660.80</td>\n",
       "      <td>3</td>\n",
       "      <td>1</td>\n",
       "      <td>0</td>\n",
       "      <td>113931.57</td>\n",
       "      <td>1</td>\n",
       "      <td>1.0</td>\n",
       "      <td>0.0</td>\n",
       "      <td>0.0</td>\n",
       "    </tr>\n",
       "    <tr>\n",
       "      <th>3</th>\n",
       "      <td>699</td>\n",
       "      <td>0</td>\n",
       "      <td>39</td>\n",
       "      <td>1</td>\n",
       "      <td>0.00</td>\n",
       "      <td>2</td>\n",
       "      <td>0</td>\n",
       "      <td>0</td>\n",
       "      <td>93826.63</td>\n",
       "      <td>0</td>\n",
       "      <td>1.0</td>\n",
       "      <td>0.0</td>\n",
       "      <td>0.0</td>\n",
       "    </tr>\n",
       "    <tr>\n",
       "      <th>4</th>\n",
       "      <td>850</td>\n",
       "      <td>0</td>\n",
       "      <td>43</td>\n",
       "      <td>2</td>\n",
       "      <td>125510.82</td>\n",
       "      <td>1</td>\n",
       "      <td>1</td>\n",
       "      <td>1</td>\n",
       "      <td>79084.10</td>\n",
       "      <td>0</td>\n",
       "      <td>0.0</td>\n",
       "      <td>0.0</td>\n",
       "      <td>1.0</td>\n",
       "    </tr>\n",
       "    <tr>\n",
       "      <th>...</th>\n",
       "      <td>...</td>\n",
       "      <td>...</td>\n",
       "      <td>...</td>\n",
       "      <td>...</td>\n",
       "      <td>...</td>\n",
       "      <td>...</td>\n",
       "      <td>...</td>\n",
       "      <td>...</td>\n",
       "      <td>...</td>\n",
       "      <td>...</td>\n",
       "      <td>...</td>\n",
       "      <td>...</td>\n",
       "      <td>...</td>\n",
       "    </tr>\n",
       "    <tr>\n",
       "      <th>9995</th>\n",
       "      <td>771</td>\n",
       "      <td>1</td>\n",
       "      <td>39</td>\n",
       "      <td>5</td>\n",
       "      <td>0.00</td>\n",
       "      <td>2</td>\n",
       "      <td>1</td>\n",
       "      <td>0</td>\n",
       "      <td>96270.64</td>\n",
       "      <td>0</td>\n",
       "      <td>1.0</td>\n",
       "      <td>0.0</td>\n",
       "      <td>0.0</td>\n",
       "    </tr>\n",
       "    <tr>\n",
       "      <th>9996</th>\n",
       "      <td>516</td>\n",
       "      <td>1</td>\n",
       "      <td>35</td>\n",
       "      <td>10</td>\n",
       "      <td>57369.61</td>\n",
       "      <td>1</td>\n",
       "      <td>1</td>\n",
       "      <td>1</td>\n",
       "      <td>101699.77</td>\n",
       "      <td>0</td>\n",
       "      <td>1.0</td>\n",
       "      <td>0.0</td>\n",
       "      <td>0.0</td>\n",
       "    </tr>\n",
       "    <tr>\n",
       "      <th>9997</th>\n",
       "      <td>709</td>\n",
       "      <td>0</td>\n",
       "      <td>36</td>\n",
       "      <td>7</td>\n",
       "      <td>0.00</td>\n",
       "      <td>1</td>\n",
       "      <td>0</td>\n",
       "      <td>1</td>\n",
       "      <td>42085.58</td>\n",
       "      <td>1</td>\n",
       "      <td>1.0</td>\n",
       "      <td>0.0</td>\n",
       "      <td>0.0</td>\n",
       "    </tr>\n",
       "    <tr>\n",
       "      <th>9998</th>\n",
       "      <td>772</td>\n",
       "      <td>1</td>\n",
       "      <td>42</td>\n",
       "      <td>3</td>\n",
       "      <td>75075.31</td>\n",
       "      <td>2</td>\n",
       "      <td>1</td>\n",
       "      <td>0</td>\n",
       "      <td>92888.52</td>\n",
       "      <td>1</td>\n",
       "      <td>0.0</td>\n",
       "      <td>1.0</td>\n",
       "      <td>0.0</td>\n",
       "    </tr>\n",
       "    <tr>\n",
       "      <th>9999</th>\n",
       "      <td>792</td>\n",
       "      <td>0</td>\n",
       "      <td>28</td>\n",
       "      <td>4</td>\n",
       "      <td>130142.79</td>\n",
       "      <td>1</td>\n",
       "      <td>1</td>\n",
       "      <td>0</td>\n",
       "      <td>38190.78</td>\n",
       "      <td>0</td>\n",
       "      <td>1.0</td>\n",
       "      <td>0.0</td>\n",
       "      <td>0.0</td>\n",
       "    </tr>\n",
       "  </tbody>\n",
       "</table>\n",
       "<p>10000 rows × 13 columns</p>\n",
       "</div>"
      ],
      "text/plain": [
       "      CreditScore  Gender  ...  Geography_Germany  Geography_Spain\n",
       "0             619       0  ...                0.0              0.0\n",
       "1             608       0  ...                0.0              1.0\n",
       "2             502       0  ...                0.0              0.0\n",
       "3             699       0  ...                0.0              0.0\n",
       "4             850       0  ...                0.0              1.0\n",
       "...           ...     ...  ...                ...              ...\n",
       "9995          771       1  ...                0.0              0.0\n",
       "9996          516       1  ...                0.0              0.0\n",
       "9997          709       0  ...                0.0              0.0\n",
       "9998          772       1  ...                1.0              0.0\n",
       "9999          792       0  ...                0.0              0.0\n",
       "\n",
       "[10000 rows x 13 columns]"
      ]
     },
     "execution_count": 37,
     "metadata": {},
     "output_type": "execute_result"
    }
   ],
   "source": [
    "df_final"
   ]
  },
  {
   "cell_type": "code",
   "execution_count": 38,
   "metadata": {},
   "outputs": [],
   "source": [
    "X=df_final.drop(\"EstimatedSalary\",axis=1)"
   ]
  },
  {
   "cell_type": "code",
   "execution_count": 40,
   "metadata": {},
   "outputs": [],
   "source": [
    "Y=df_final[\"EstimatedSalary\"]"
   ]
  },
  {
   "cell_type": "code",
   "execution_count": 41,
   "metadata": {},
   "outputs": [
    {
     "data": {
      "text/plain": [
       "0       101348.88\n",
       "1       112542.58\n",
       "2       113931.57\n",
       "3        93826.63\n",
       "4        79084.10\n",
       "          ...    \n",
       "9995     96270.64\n",
       "9996    101699.77\n",
       "9997     42085.58\n",
       "9998     92888.52\n",
       "9999     38190.78\n",
       "Name: EstimatedSalary, Length: 10000, dtype: float64"
      ]
     },
     "execution_count": 41,
     "metadata": {},
     "output_type": "execute_result"
    }
   ],
   "source": [
    "Y"
   ]
  },
  {
   "cell_type": "code",
   "execution_count": null,
   "metadata": {},
   "outputs": [],
   "source": [
    "X_train,X_test,y_train,y_test=train_test_split(X,Y,test_size=0.2,random_state=42)"
   ]
  },
  {
   "cell_type": "code",
   "execution_count": 43,
   "metadata": {},
   "outputs": [],
   "source": [
    "SC=StandardScaler"
   ]
  },
  {
   "cell_type": "code",
   "execution_count": 47,
   "metadata": {},
   "outputs": [],
   "source": [
    "from sklearn.preprocessing import StandardScaler\n",
    "\n",
    "SC = StandardScaler()  # or any other scaler you are using\n",
    "x_train_sc = SC.fit_transform(X_train)  # Ensure X_train is defined"
   ]
  },
  {
   "cell_type": "code",
   "execution_count": 48,
   "metadata": {},
   "outputs": [],
   "source": [
    "x_test_sc=SC.transform(X_test)"
   ]
  },
  {
   "cell_type": "code",
   "execution_count": 50,
   "metadata": {},
   "outputs": [],
   "source": [
    "with open('Scaler.pkl','wb') as file:\n",
    "    pickle.dump(SC,file)"
   ]
  },
  {
   "cell_type": "code",
   "execution_count": 51,
   "metadata": {},
   "outputs": [],
   "source": [
    "with open('Label_Encoder.pkl','wb') as file:\n",
    "    pickle.dump(LB,file)\n",
    "\n",
    "    "
   ]
  },
  {
   "cell_type": "code",
   "execution_count": 52,
   "metadata": {},
   "outputs": [],
   "source": [
    "with open('One_hot_encoder.pkl','wb') as file:\n",
    "    pickle.dump(one_hot,file)"
   ]
  },
  {
   "cell_type": "code",
   "execution_count": 53,
   "metadata": {},
   "outputs": [],
   "source": [
    "import tensorflow as tf\n",
    "from tensorflow.keras.models import Sequential\n",
    "from tensorflow.keras.layers import Dense"
   ]
  },
  {
   "cell_type": "code",
   "execution_count": 60,
   "metadata": {},
   "outputs": [],
   "source": [
    "model = Sequential([\n",
    "    Dense(64, activation='relu', input_shape=(x_train_sc.shape[1],)),  # Note the comma\n",
    "    Dense(32, activation='relu'),\n",
    "    Dense(1)\n",
    "])"
   ]
  },
  {
   "cell_type": "code",
   "execution_count": 61,
   "metadata": {},
   "outputs": [
    {
     "name": "stdout",
     "output_type": "stream",
     "text": [
      "WARNING:tensorflow:From c:\\Users\\umair\\OneDrive\\Desktop\\Final DL\\venvDL\\Lib\\site-packages\\keras\\src\\optimizers\\__init__.py:309: The name tf.train.Optimizer is deprecated. Please use tf.compat.v1.train.Optimizer instead.\n",
      "\n"
     ]
    }
   ],
   "source": [
    "model.compile(optimizer='adam',loss='mean_absolute_error', metrics=['mae'])"
   ]
  },
  {
   "cell_type": "code",
   "execution_count": 63,
   "metadata": {},
   "outputs": [
    {
     "name": "stdout",
     "output_type": "stream",
     "text": [
      "Model: \"sequential\"\n",
      "_________________________________________________________________\n",
      " Layer (type)                Output Shape              Param #   \n",
      "=================================================================\n",
      " dense_1 (Dense)             (None, 64)                832       \n",
      "                                                                 \n",
      " dense_2 (Dense)             (None, 32)                2080      \n",
      "                                                                 \n",
      " dense_3 (Dense)             (None, 1)                 33        \n",
      "                                                                 \n",
      "=================================================================\n",
      "Total params: 2945 (11.50 KB)\n",
      "Trainable params: 2945 (11.50 KB)\n",
      "Non-trainable params: 0 (0.00 Byte)\n",
      "_________________________________________________________________\n"
     ]
    }
   ],
   "source": [
    "model.summary()"
   ]
  },
  {
   "cell_type": "code",
   "execution_count": 65,
   "metadata": {},
   "outputs": [],
   "source": [
    "## Set up the Tensorboard\n",
    "import datetime\n",
    "from tensorflow.keras.callbacks import EarlyStopping,TensorBoard\n",
    "\n",
    "log_dir=\"regressionlogs/fit/\" + datetime.datetime.now().strftime(\"%Y%m%d-%H%M%S\")\n",
    "tensorflow_callback=TensorBoard(log_dir=log_dir,histogram_freq=1)"
   ]
  },
  {
   "cell_type": "code",
   "execution_count": 66,
   "metadata": {},
   "outputs": [],
   "source": [
    "early_stopping=EarlyStopping(monitor='val_loss',patience=15,restore_best_weights=True)"
   ]
  },
  {
   "cell_type": "code",
   "execution_count": 67,
   "metadata": {},
   "outputs": [
    {
     "name": "stdout",
     "output_type": "stream",
     "text": [
      "Epoch 1/120\n",
      "WARNING:tensorflow:From c:\\Users\\umair\\OneDrive\\Desktop\\Final DL\\venvDL\\Lib\\site-packages\\keras\\src\\utils\\tf_utils.py:492: The name tf.ragged.RaggedTensorValue is deprecated. Please use tf.compat.v1.ragged.RaggedTensorValue instead.\n",
      "\n",
      "WARNING:tensorflow:From c:\\Users\\umair\\OneDrive\\Desktop\\Final DL\\venvDL\\Lib\\site-packages\\keras\\src\\engine\\base_layer_utils.py:384: The name tf.executing_eagerly_outside_functions is deprecated. Please use tf.compat.v1.executing_eagerly_outside_functions instead.\n",
      "\n",
      "250/250 [==============================] - 2s 4ms/step - loss: 100373.3594 - mae: 100373.3594 - val_loss: 98496.3984 - val_mae: 98496.3984\n",
      "Epoch 2/120\n",
      "250/250 [==============================] - 1s 2ms/step - loss: 99536.6875 - mae: 99536.6875 - val_loss: 96788.0547 - val_mae: 96788.0547\n",
      "Epoch 3/120\n",
      "250/250 [==============================] - 1s 2ms/step - loss: 96575.3672 - mae: 96575.3672 - val_loss: 92427.6406 - val_mae: 92427.6406\n",
      "Epoch 4/120\n",
      "250/250 [==============================] - 1s 3ms/step - loss: 90802.6016 - mae: 90802.6016 - val_loss: 85286.8203 - val_mae: 85286.8203\n",
      "Epoch 5/120\n",
      "250/250 [==============================] - 1s 2ms/step - loss: 82538.1484 - mae: 82538.1484 - val_loss: 76304.2891 - val_mae: 76304.2891\n",
      "Epoch 6/120\n",
      "250/250 [==============================] - 1s 2ms/step - loss: 73090.5547 - mae: 73090.5547 - val_loss: 67325.0625 - val_mae: 67325.0625\n",
      "Epoch 7/120\n",
      "250/250 [==============================] - 1s 2ms/step - loss: 64396.2188 - mae: 64396.2188 - val_loss: 59979.1953 - val_mae: 59979.1953\n",
      "Epoch 8/120\n",
      "250/250 [==============================] - 1s 2ms/step - loss: 57895.3555 - mae: 57895.3555 - val_loss: 55070.2812 - val_mae: 55070.2812\n",
      "Epoch 9/120\n",
      "250/250 [==============================] - 1s 2ms/step - loss: 53921.7422 - mae: 53921.7422 - val_loss: 52460.9648 - val_mae: 52460.9648\n",
      "Epoch 10/120\n",
      "250/250 [==============================] - 1s 2ms/step - loss: 51915.7734 - mae: 51915.7734 - val_loss: 51239.6836 - val_mae: 51239.6836\n",
      "Epoch 11/120\n",
      "250/250 [==============================] - 1s 2ms/step - loss: 50956.5469 - mae: 50956.5469 - val_loss: 50770.5508 - val_mae: 50770.5508\n",
      "Epoch 12/120\n",
      "250/250 [==============================] - 1s 2ms/step - loss: 50520.7031 - mae: 50520.7031 - val_loss: 50584.3672 - val_mae: 50584.3672\n",
      "Epoch 13/120\n",
      "250/250 [==============================] - 1s 2ms/step - loss: 50291.6953 - mae: 50291.6953 - val_loss: 50505.0898 - val_mae: 50505.0898\n",
      "Epoch 14/120\n",
      "250/250 [==============================] - 1s 3ms/step - loss: 50167.5312 - mae: 50167.5312 - val_loss: 50449.1953 - val_mae: 50449.1953\n",
      "Epoch 15/120\n",
      "250/250 [==============================] - 1s 2ms/step - loss: 50088.9648 - mae: 50088.9648 - val_loss: 50419.4648 - val_mae: 50419.4648\n",
      "Epoch 16/120\n",
      "250/250 [==============================] - 1s 2ms/step - loss: 50034.3008 - mae: 50034.3008 - val_loss: 50383.6680 - val_mae: 50383.6680\n",
      "Epoch 17/120\n",
      "250/250 [==============================] - 1s 2ms/step - loss: 49991.4688 - mae: 49991.4688 - val_loss: 50365.0977 - val_mae: 50365.0977\n",
      "Epoch 18/120\n",
      "250/250 [==============================] - 1s 3ms/step - loss: 49954.8867 - mae: 49954.8867 - val_loss: 50345.7578 - val_mae: 50345.7578\n",
      "Epoch 19/120\n",
      "250/250 [==============================] - 1s 3ms/step - loss: 49920.2734 - mae: 49920.2734 - val_loss: 50326.1992 - val_mae: 50326.1992\n",
      "Epoch 20/120\n",
      "250/250 [==============================] - 1s 2ms/step - loss: 49891.0234 - mae: 49891.0234 - val_loss: 50316.8086 - val_mae: 50316.8086\n",
      "Epoch 21/120\n",
      "250/250 [==============================] - 0s 2ms/step - loss: 49864.6797 - mae: 49864.6797 - val_loss: 50292.7109 - val_mae: 50292.7109\n",
      "Epoch 22/120\n",
      "250/250 [==============================] - 1s 2ms/step - loss: 49838.4531 - mae: 49838.4531 - val_loss: 50281.1445 - val_mae: 50281.1445\n",
      "Epoch 23/120\n",
      "250/250 [==============================] - 1s 3ms/step - loss: 49816.3398 - mae: 49816.3398 - val_loss: 50277.8867 - val_mae: 50277.8867\n",
      "Epoch 24/120\n",
      "250/250 [==============================] - 1s 4ms/step - loss: 49796.6875 - mae: 49796.6875 - val_loss: 50261.0273 - val_mae: 50261.0273\n",
      "Epoch 25/120\n",
      "250/250 [==============================] - 1s 4ms/step - loss: 49774.1680 - mae: 49774.1680 - val_loss: 50263.0664 - val_mae: 50263.0664\n",
      "Epoch 26/120\n",
      "250/250 [==============================] - 1s 2ms/step - loss: 49762.1953 - mae: 49762.1953 - val_loss: 50259.8086 - val_mae: 50259.8086\n",
      "Epoch 27/120\n",
      "250/250 [==============================] - 1s 3ms/step - loss: 49740.0703 - mae: 49740.0703 - val_loss: 50252.9844 - val_mae: 50252.9844\n",
      "Epoch 28/120\n",
      "250/250 [==============================] - 3s 11ms/step - loss: 49722.7656 - mae: 49722.7656 - val_loss: 50252.2891 - val_mae: 50252.2891\n",
      "Epoch 29/120\n",
      "250/250 [==============================] - 2s 9ms/step - loss: 49705.9961 - mae: 49705.9961 - val_loss: 50241.8047 - val_mae: 50241.8047\n",
      "Epoch 30/120\n",
      "250/250 [==============================] - 2s 8ms/step - loss: 49693.6289 - mae: 49693.6289 - val_loss: 50245.5391 - val_mae: 50245.5391\n",
      "Epoch 31/120\n",
      "250/250 [==============================] - 2s 9ms/step - loss: 49677.3867 - mae: 49677.3867 - val_loss: 50245.2266 - val_mae: 50245.2266\n",
      "Epoch 32/120\n",
      "250/250 [==============================] - 2s 9ms/step - loss: 49664.5352 - mae: 49664.5352 - val_loss: 50238.4727 - val_mae: 50238.4727\n",
      "Epoch 33/120\n",
      "250/250 [==============================] - 1s 2ms/step - loss: 49649.4883 - mae: 49649.4883 - val_loss: 50233.2656 - val_mae: 50233.2656\n",
      "Epoch 34/120\n",
      "250/250 [==============================] - 1s 2ms/step - loss: 49640.5977 - mae: 49640.5977 - val_loss: 50235.0977 - val_mae: 50235.0977\n",
      "Epoch 35/120\n",
      "250/250 [==============================] - 1s 3ms/step - loss: 49627.8359 - mae: 49627.8359 - val_loss: 50227.4922 - val_mae: 50227.4922\n",
      "Epoch 36/120\n",
      "250/250 [==============================] - 1s 3ms/step - loss: 49618.4375 - mae: 49618.4375 - val_loss: 50225.0664 - val_mae: 50225.0664\n",
      "Epoch 37/120\n",
      "250/250 [==============================] - 0s 2ms/step - loss: 49606.2578 - mae: 49606.2578 - val_loss: 50221.5234 - val_mae: 50221.5234\n",
      "Epoch 38/120\n",
      "250/250 [==============================] - 0s 2ms/step - loss: 49595.4023 - mae: 49595.4023 - val_loss: 50225.0117 - val_mae: 50225.0117\n",
      "Epoch 39/120\n",
      "250/250 [==============================] - 1s 2ms/step - loss: 49586.6602 - mae: 49586.6602 - val_loss: 50204.1406 - val_mae: 50204.1406\n",
      "Epoch 40/120\n",
      "250/250 [==============================] - 1s 2ms/step - loss: 49574.0352 - mae: 49574.0352 - val_loss: 50219.9570 - val_mae: 50219.9570\n",
      "Epoch 41/120\n",
      "250/250 [==============================] - 1s 2ms/step - loss: 49564.4102 - mae: 49564.4102 - val_loss: 50202.9062 - val_mae: 50202.9062\n",
      "Epoch 42/120\n",
      "250/250 [==============================] - 1s 3ms/step - loss: 49557.6953 - mae: 49557.6953 - val_loss: 50216.6133 - val_mae: 50216.6133\n",
      "Epoch 43/120\n",
      "250/250 [==============================] - 1s 2ms/step - loss: 49545.0312 - mae: 49545.0312 - val_loss: 50208.5898 - val_mae: 50208.5898\n",
      "Epoch 44/120\n",
      "250/250 [==============================] - 1s 2ms/step - loss: 49536.5234 - mae: 49536.5234 - val_loss: 50205.6523 - val_mae: 50205.6523\n",
      "Epoch 45/120\n",
      "250/250 [==============================] - 1s 2ms/step - loss: 49528.0039 - mae: 49528.0039 - val_loss: 50215.3711 - val_mae: 50215.3711\n",
      "Epoch 46/120\n",
      "250/250 [==============================] - 1s 2ms/step - loss: 49518.6992 - mae: 49518.6992 - val_loss: 50208.7695 - val_mae: 50208.7695\n",
      "Epoch 47/120\n",
      "250/250 [==============================] - 1s 3ms/step - loss: 49510.7695 - mae: 49510.7695 - val_loss: 50196.3945 - val_mae: 50196.3945\n",
      "Epoch 48/120\n",
      "250/250 [==============================] - 1s 2ms/step - loss: 49506.7227 - mae: 49506.7227 - val_loss: 50195.1445 - val_mae: 50195.1445\n",
      "Epoch 49/120\n",
      "250/250 [==============================] - 1s 2ms/step - loss: 49495.9648 - mae: 49495.9648 - val_loss: 50209.7695 - val_mae: 50209.7695\n",
      "Epoch 50/120\n",
      "250/250 [==============================] - 1s 3ms/step - loss: 49488.3750 - mae: 49488.3750 - val_loss: 50204.6172 - val_mae: 50204.6172\n",
      "Epoch 51/120\n",
      "250/250 [==============================] - 1s 4ms/step - loss: 49481.1367 - mae: 49481.1367 - val_loss: 50201.4102 - val_mae: 50201.4102\n",
      "Epoch 52/120\n",
      "250/250 [==============================] - 1s 2ms/step - loss: 49474.3711 - mae: 49474.3711 - val_loss: 50203.0312 - val_mae: 50203.0312\n",
      "Epoch 53/120\n",
      "250/250 [==============================] - 2s 8ms/step - loss: 49465.2891 - mae: 49465.2891 - val_loss: 50207.1250 - val_mae: 50207.1250\n",
      "Epoch 54/120\n",
      "250/250 [==============================] - 2s 8ms/step - loss: 49459.5898 - mae: 49459.5898 - val_loss: 50207.9805 - val_mae: 50207.9805\n",
      "Epoch 55/120\n",
      "250/250 [==============================] - 2s 8ms/step - loss: 49454.2305 - mae: 49454.2305 - val_loss: 50194.5352 - val_mae: 50194.5352\n",
      "Epoch 56/120\n",
      "250/250 [==============================] - 2s 8ms/step - loss: 49444.3359 - mae: 49444.3359 - val_loss: 50203.2969 - val_mae: 50203.2969\n",
      "Epoch 57/120\n",
      "250/250 [==============================] - 3s 10ms/step - loss: 49439.4297 - mae: 49439.4297 - val_loss: 50213.9648 - val_mae: 50213.9648\n",
      "Epoch 58/120\n",
      "250/250 [==============================] - 2s 9ms/step - loss: 49433.2656 - mae: 49433.2656 - val_loss: 50214.7422 - val_mae: 50214.7422\n",
      "Epoch 59/120\n",
      "250/250 [==============================] - 2s 9ms/step - loss: 49427.4961 - mae: 49427.4961 - val_loss: 50220.4531 - val_mae: 50220.4531\n",
      "Epoch 60/120\n",
      "250/250 [==============================] - 2s 6ms/step - loss: 49421.8086 - mae: 49421.8086 - val_loss: 50211.4531 - val_mae: 50211.4531\n",
      "Epoch 61/120\n",
      "250/250 [==============================] - 2s 9ms/step - loss: 49415.9648 - mae: 49415.9648 - val_loss: 50218.1484 - val_mae: 50218.1484\n",
      "Epoch 62/120\n",
      "250/250 [==============================] - 2s 9ms/step - loss: 49412.1406 - mae: 49412.1406 - val_loss: 50214.3750 - val_mae: 50214.3750\n",
      "Epoch 63/120\n",
      "250/250 [==============================] - 2s 8ms/step - loss: 49404.7422 - mae: 49404.7422 - val_loss: 50210.6016 - val_mae: 50210.6016\n",
      "Epoch 64/120\n",
      "250/250 [==============================] - 3s 12ms/step - loss: 49399.1719 - mae: 49399.1719 - val_loss: 50218.4609 - val_mae: 50218.4609\n",
      "Epoch 65/120\n",
      "250/250 [==============================] - 2s 7ms/step - loss: 49394.1914 - mae: 49394.1914 - val_loss: 50217.6680 - val_mae: 50217.6680\n",
      "Epoch 66/120\n",
      "250/250 [==============================] - 2s 10ms/step - loss: 49388.0703 - mae: 49388.0703 - val_loss: 50223.0859 - val_mae: 50223.0859\n",
      "Epoch 67/120\n",
      "250/250 [==============================] - 2s 10ms/step - loss: 49384.8477 - mae: 49384.8477 - val_loss: 50225.9883 - val_mae: 50225.9883\n",
      "Epoch 68/120\n",
      "250/250 [==============================] - 2s 9ms/step - loss: 49377.3359 - mae: 49377.3359 - val_loss: 50227.4766 - val_mae: 50227.4766\n",
      "Epoch 69/120\n",
      "250/250 [==============================] - 2s 8ms/step - loss: 49374.5078 - mae: 49374.5078 - val_loss: 50235.5234 - val_mae: 50235.5234\n",
      "Epoch 70/120\n",
      "250/250 [==============================] - 2s 8ms/step - loss: 49369.9492 - mae: 49369.9492 - val_loss: 50236.9922 - val_mae: 50236.9922\n"
     ]
    }
   ],
   "source": [
    "history_regression=model.fit(\n",
    "    x_train_sc, y_train, epochs=120, batch_size=32, validation_data=(x_test_sc,y_test), callbacks=[tensorflow_callback,early_stopping]\n",
    ")"
   ]
  },
  {
   "cell_type": "code",
   "execution_count": 72,
   "metadata": {},
   "outputs": [
    {
     "name": "stdout",
     "output_type": "stream",
     "text": [
      "Requirement already satisfied: tensorboard in c:\\users\\umair\\onedrive\\desktop\\final dl\\venvdl\\lib\\site-packages (2.15.2)\n",
      "Requirement already satisfied: absl-py>=0.4 in c:\\users\\umair\\onedrive\\desktop\\final dl\\venvdl\\lib\\site-packages (from tensorboard) (2.1.0)\n",
      "Requirement already satisfied: grpcio>=1.48.2 in c:\\users\\umair\\onedrive\\desktop\\final dl\\venvdl\\lib\\site-packages (from tensorboard) (1.67.1)\n",
      "Requirement already satisfied: google-auth<3,>=1.6.3 in c:\\users\\umair\\onedrive\\desktop\\final dl\\venvdl\\lib\\site-packages (from tensorboard) (2.36.0)\n",
      "Requirement already satisfied: google-auth-oauthlib<2,>=0.5 in c:\\users\\umair\\onedrive\\desktop\\final dl\\venvdl\\lib\\site-packages (from tensorboard) (1.2.1)\n",
      "Requirement already satisfied: markdown>=2.6.8 in c:\\users\\umair\\onedrive\\desktop\\final dl\\venvdl\\lib\\site-packages (from tensorboard) (3.6)\n",
      "Requirement already satisfied: numpy>=1.12.0 in c:\\users\\umair\\onedrive\\desktop\\final dl\\venvdl\\lib\\site-packages (from tensorboard) (1.26.4)\n",
      "Requirement already satisfied: protobuf!=4.24.0,>=3.19.6 in c:\\users\\umair\\onedrive\\desktop\\final dl\\venvdl\\lib\\site-packages (from tensorboard) (4.25.5)\n",
      "Requirement already satisfied: requests<3,>=2.21.0 in c:\\users\\umair\\onedrive\\desktop\\final dl\\venvdl\\lib\\site-packages (from tensorboard) (2.32.3)\n",
      "Requirement already satisfied: setuptools>=41.0.0 in c:\\users\\umair\\onedrive\\desktop\\final dl\\venvdl\\lib\\site-packages (from tensorboard) (75.1.0)\n",
      "Requirement already satisfied: six>1.9 in c:\\users\\umair\\onedrive\\desktop\\final dl\\venvdl\\lib\\site-packages (from tensorboard) (1.16.0)\n",
      "Requirement already satisfied: tensorboard-data-server<0.8.0,>=0.7.0 in c:\\users\\umair\\onedrive\\desktop\\final dl\\venvdl\\lib\\site-packages (from tensorboard) (0.7.0)\n",
      "Requirement already satisfied: werkzeug>=1.0.1 in c:\\users\\umair\\onedrive\\desktop\\final dl\\venvdl\\lib\\site-packages (from tensorboard) (3.1.3)\n",
      "Requirement already satisfied: cachetools<6.0,>=2.0.0 in c:\\users\\umair\\onedrive\\desktop\\final dl\\venvdl\\lib\\site-packages (from google-auth<3,>=1.6.3->tensorboard) (5.5.0)\n",
      "Requirement already satisfied: pyasn1-modules>=0.2.1 in c:\\users\\umair\\onedrive\\desktop\\final dl\\venvdl\\lib\\site-packages (from google-auth<3,>=1.6.3->tensorboard) (0.4.1)\n",
      "Requirement already satisfied: rsa<5,>=3.1.4 in c:\\users\\umair\\onedrive\\desktop\\final dl\\venvdl\\lib\\site-packages (from google-auth<3,>=1.6.3->tensorboard) (4.9)\n",
      "Requirement already satisfied: requests-oauthlib>=0.7.0 in c:\\users\\umair\\onedrive\\desktop\\final dl\\venvdl\\lib\\site-packages (from google-auth-oauthlib<2,>=0.5->tensorboard) (2.0.0)\n",
      "Requirement already satisfied: charset-normalizer<4,>=2 in c:\\users\\umair\\onedrive\\desktop\\final dl\\venvdl\\lib\\site-packages (from requests<3,>=2.21.0->tensorboard) (3.4.0)\n",
      "Requirement already satisfied: idna<4,>=2.5 in c:\\users\\umair\\onedrive\\desktop\\final dl\\venvdl\\lib\\site-packages (from requests<3,>=2.21.0->tensorboard) (3.10)\n",
      "Requirement already satisfied: urllib3<3,>=1.21.1 in c:\\users\\umair\\onedrive\\desktop\\final dl\\venvdl\\lib\\site-packages (from requests<3,>=2.21.0->tensorboard) (2.2.3)\n",
      "Requirement already satisfied: certifi>=2017.4.17 in c:\\users\\umair\\onedrive\\desktop\\final dl\\venvdl\\lib\\site-packages (from requests<3,>=2.21.0->tensorboard) (2024.8.30)\n",
      "Requirement already satisfied: MarkupSafe>=2.1.1 in c:\\users\\umair\\onedrive\\desktop\\final dl\\venvdl\\lib\\site-packages (from werkzeug>=1.0.1->tensorboard) (3.0.2)\n",
      "Requirement already satisfied: pyasn1<0.7.0,>=0.4.6 in c:\\users\\umair\\onedrive\\desktop\\final dl\\venvdl\\lib\\site-packages (from pyasn1-modules>=0.2.1->google-auth<3,>=1.6.3->tensorboard) (0.6.1)\n",
      "Requirement already satisfied: oauthlib>=3.0.0 in c:\\users\\umair\\onedrive\\desktop\\final dl\\venvdl\\lib\\site-packages (from requests-oauthlib>=0.7.0->google-auth-oauthlib<2,>=0.5->tensorboard) (3.2.2)\n",
      "Note: you may need to restart the kernel to use updated packages.\n"
     ]
    }
   ],
   "source": [
    "pip install tensorboard"
   ]
  },
  {
   "cell_type": "code",
   "execution_count": 73,
   "metadata": {},
   "outputs": [
    {
     "name": "stdout",
     "output_type": "stream",
     "text": [
      "The tensorboard extension is already loaded. To reload it, use:\n",
      "  %reload_ext tensorboard\n"
     ]
    }
   ],
   "source": [
    "%load_ext tensorboard"
   ]
  },
  {
   "cell_type": "code",
   "execution_count": 75,
   "metadata": {},
   "outputs": [
    {
     "data": {
      "text/plain": [
       "Reusing TensorBoard on port 6007 (pid 6764), started 0:00:27 ago. (Use '!kill 6764' to kill it.)"
      ]
     },
     "metadata": {},
     "output_type": "display_data"
    },
    {
     "data": {
      "text/html": [
       "\n",
       "      <iframe id=\"tensorboard-frame-cf1a7f5355b02a44\" width=\"100%\" height=\"800\" frameborder=\"0\">\n",
       "      </iframe>\n",
       "      <script>\n",
       "        (function() {\n",
       "          const frame = document.getElementById(\"tensorboard-frame-cf1a7f5355b02a44\");\n",
       "          const url = new URL(\"http://localhost\");\n",
       "          const port = 6007;\n",
       "          if (port) {\n",
       "            url.port = port;\n",
       "          }\n",
       "          frame.src = url;\n",
       "        })();\n",
       "      </script>\n",
       "    "
      ],
      "text/plain": [
       "<IPython.core.display.HTML object>"
      ]
     },
     "metadata": {},
     "output_type": "display_data"
    }
   ],
   "source": [
    "%tensorboard --logdir regressionlogs/fit"
   ]
  },
  {
   "cell_type": "code",
   "execution_count": 76,
   "metadata": {},
   "outputs": [
    {
     "name": "stdout",
     "output_type": "stream",
     "text": [
      "63/63 [==============================] - 0s 1ms/step - loss: 50194.5352 - mae: 50194.5352\n"
     ]
    }
   ],
   "source": [
    "test_loss,test_mae=model.evaluate(x_test_sc,y_test)"
   ]
  },
  {
   "cell_type": "code",
   "execution_count": 78,
   "metadata": {},
   "outputs": [
    {
     "name": "stderr",
     "output_type": "stream",
     "text": [
      "c:\\Users\\umair\\OneDrive\\Desktop\\Final DL\\venvDL\\Lib\\site-packages\\keras\\src\\engine\\training.py:3103: UserWarning: You are saving your model as an HDF5 file via `model.save()`. This file format is considered legacy. We recommend using instead the native Keras format, e.g. `model.save('my_model.keras')`.\n",
      "  saving_api.save_model(\n"
     ]
    }
   ],
   "source": [
    "model.save('regression_model.h5')"
   ]
  },
  {
   "cell_type": "code",
   "execution_count": null,
   "metadata": {},
   "outputs": [],
   "source": []
  },
  {
   "cell_type": "code",
   "execution_count": null,
   "metadata": {},
   "outputs": [],
   "source": []
  },
  {
   "cell_type": "code",
   "execution_count": null,
   "metadata": {},
   "outputs": [],
   "source": []
  },
  {
   "cell_type": "code",
   "execution_count": null,
   "metadata": {},
   "outputs": [],
   "source": []
  },
  {
   "cell_type": "code",
   "execution_count": null,
   "metadata": {},
   "outputs": [],
   "source": []
  }
 ],
 "metadata": {
  "kernelspec": {
   "display_name": "Python 3",
   "language": "python",
   "name": "python3"
  },
  "language_info": {
   "codemirror_mode": {
    "name": "ipython",
    "version": 3
   },
   "file_extension": ".py",
   "mimetype": "text/x-python",
   "name": "python",
   "nbconvert_exporter": "python",
   "pygments_lexer": "ipython3",
   "version": "3.11.0"
  }
 },
 "nbformat": 4,
 "nbformat_minor": 2
}
